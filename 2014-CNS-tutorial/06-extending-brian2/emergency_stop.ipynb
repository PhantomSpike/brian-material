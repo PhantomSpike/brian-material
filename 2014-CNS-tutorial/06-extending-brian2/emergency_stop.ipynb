{
 "metadata": {
  "name": "",
  "signature": "sha256:12676d94c623ca0a8c3c7d6281c4d586b8ef6de744b4533ec9f6708ce69a59fa"
 },
 "nbformat": 3,
 "nbformat_minor": 0,
 "worksheets": [
  {
   "cells": [
    {
     "cell_type": "code",
     "collapsed": false,
     "input": [
      "from brian2 import *"
     ],
     "language": "python",
     "metadata": {},
     "outputs": [],
     "prompt_number": 1
    },
    {
     "cell_type": "code",
     "collapsed": false,
     "input": [
      "G = NeuronGroup(1, 'dv/dt = t/second/ms : 1')"
     ],
     "language": "python",
     "metadata": {},
     "outputs": [],
     "prompt_number": 2
    },
    {
     "cell_type": "code",
     "collapsed": false,
     "input": [
      "# A network operation can execute arbitrary code, including code\n",
      "# that stops the simulation\n",
      "@network_operation(Clock(dt=10*ms))\n",
      "def check():\n",
      "    if G.v[0] > 100:\n",
      "        stop()"
     ],
     "language": "python",
     "metadata": {},
     "outputs": [],
     "prompt_number": 3
    },
    {
     "cell_type": "code",
     "collapsed": false,
     "input": [
      "run(100*second, report='text')"
     ],
     "language": "python",
     "metadata": {},
     "outputs": [
      {
       "output_type": "stream",
       "stream": "stdout",
       "text": [
        "Starting simulation for duration 100.0 s\n"
       ]
      },
      {
       "output_type": "stream",
       "stream": "stdout",
       "text": [
        "100.0 s (100%) simulated in < 1s\n"
       ]
      }
     ],
     "prompt_number": 4
    },
    {
     "cell_type": "code",
     "collapsed": false,
     "input": [
      "print G.v\n",
      "print defaultclock.t"
     ],
     "language": "python",
     "metadata": {},
     "outputs": [
      {
       "output_type": "stream",
       "stream": "stdout",
       "text": [
        "<neurongroup.v: array([ 100.08338])>\n",
        "0.4474 s\n"
       ]
      }
     ],
     "prompt_number": 5
    }
   ],
   "metadata": {}
  }
 ]
}