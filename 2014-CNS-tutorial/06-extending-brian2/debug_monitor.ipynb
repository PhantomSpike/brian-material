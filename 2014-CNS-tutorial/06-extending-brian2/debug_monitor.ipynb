{
 "metadata": {
  "name": "",
  "signature": "sha256:1deb1ff084239d5fd3f36b59eb3d7700288bccf1afd9a8257db8d29cf4b1600a"
 },
 "nbformat": 3,
 "nbformat_minor": 0,
 "worksheets": [
  {
   "cells": [
    {
     "cell_type": "code",
     "collapsed": false,
     "input": [
      "from brian2 import *"
     ],
     "language": "python",
     "metadata": {},
     "outputs": [],
     "prompt_number": 1
    },
    {
     "cell_type": "code",
     "collapsed": false,
     "input": [
      "G = NeuronGroup(5, 'dv/dt = -v / (10*ms) : 1')\n",
      "G.v = '1.0*i/N'"
     ],
     "language": "python",
     "metadata": {},
     "outputs": [],
     "prompt_number": 2
    },
    {
     "cell_type": "code",
     "collapsed": false,
     "input": [
      "class DebugMonitor(BrianObject):\n",
      "    '''\n",
      "    A simple class to demonstrate how to write a custom monitor. Prints out the values\n",
      "    of the recorded value at every timestep.\n",
      "    '''\n",
      "    add_to_magic_network = True\n",
      "    invalidates_magic_network = False\n",
      "    \n",
      "    def __init__(self, source, var, when=None, name='debug_mon*'):\n",
      "        self.source = source\n",
      "        self.var = var\n",
      "        BrianObject.__init__(self, when=None, name=name)\n",
      "    \n",
      "    def before_run(self, run_namespace=None, level=0):\n",
      "        print 'Monitoring', self.source.name\n",
      "        BrianObject.before_run(self, run_namespace, level=level+1)\n",
      "    \n",
      "    def run(self):\n",
      "        print getattr(self.source, self.var)\n",
      "        BrianObject.run(self)"
     ],
     "language": "python",
     "metadata": {},
     "outputs": [],
     "prompt_number": 3
    },
    {
     "cell_type": "code",
     "collapsed": false,
     "input": [
      "mon = DebugMonitor(G, 'v')"
     ],
     "language": "python",
     "metadata": {},
     "outputs": [],
     "prompt_number": 4
    },
    {
     "cell_type": "code",
     "collapsed": false,
     "input": [
      "print collect()"
     ],
     "language": "python",
     "metadata": {},
     "outputs": [
      {
       "output_type": "stream",
       "stream": "stdout",
       "text": [
        "set([DebugMonitor(when=Scheduler(clock=Clock(dt=0.10000000000000001 * msecond, name='defaultclock'), when='start', order=0), name='debug_mon'), NeuronGroup(when=Scheduler(clock=Clock(dt=0.10000000000000001 * msecond, name='defaultclock'), when='start', order=0), name='neurongroup')])\n"
       ]
      }
     ],
     "prompt_number": 5
    },
    {
     "cell_type": "code",
     "collapsed": false,
     "input": [
      "run(1*ms)"
     ],
     "language": "python",
     "metadata": {},
     "outputs": [
      {
       "output_type": "stream",
       "stream": "stdout",
       "text": [
        "Monitoring neurongroup\n",
        "<neurongroup.v: array([ 0. ,  0.2,  0.4,  0.6,  0.8])>"
       ]
      },
      {
       "output_type": "stream",
       "stream": "stdout",
       "text": [
        "\n",
        "<neurongroup.v: array([ 0.        ,  0.19800997,  0.39601993,  0.5940299 ,  0.79203987])>\n",
        "<neurongroup.v: array([ 0.        ,  0.19603973,  0.39207947,  0.5881192 ,  0.78415894])>\n",
        "<neurongroup.v: array([ 0.        ,  0.19408911,  0.38817821,  0.58226732,  0.77635643])>\n",
        "<neurongroup.v: array([ 0.        ,  0.19215789,  0.38431578,  0.57647366,  0.76863155])>\n",
        "<neurongroup.v: array([ 0.        ,  0.19024588,  0.38049177,  0.57073765,  0.76098354])>\n",
        "<neurongroup.v: array([ 0.        ,  0.18835291,  0.37670581,  0.56505872,  0.75341163])>\n",
        "<neurongroup.v: array([ 0.        ,  0.18647876,  0.37295753,  0.55943629,  0.74591506])>\n",
        "<neurongroup.v: array([ 0.        ,  0.18462327,  0.36924654,  0.55386981,  0.73849308])>\n",
        "<neurongroup.v: array([ 0.        ,  0.18278624,  0.36557247,  0.54835871,  0.73114495])>\n"
       ]
      }
     ],
     "prompt_number": 6
    }
   ],
   "metadata": {}
  }
 ]
}