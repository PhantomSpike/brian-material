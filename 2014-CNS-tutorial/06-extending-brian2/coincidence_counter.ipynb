{
 "metadata": {
  "name": "",
  "signature": "sha256:f5b47fe1f4b7637d4e7f1014153d3b83f249d03175b2a955001decdaae671bd5"
 },
 "nbformat": 3,
 "nbformat_minor": 0,
 "worksheets": [
  {
   "cells": [
    {
     "cell_type": "code",
     "collapsed": false,
     "input": [
      "from brian2 import *"
     ],
     "language": "python",
     "metadata": {},
     "outputs": [],
     "prompt_number": 1
    },
    {
     "cell_type": "code",
     "collapsed": false,
     "input": [
      "class CoincidenceCounter(BrianObject):\n",
      "    '''\n",
      "    Monitor that counts coincidences between spikes in a group of neurons. Very simple\n",
      "    implementation that only coincidences exact coincidences (same time step) and stores\n",
      "    a full NxN matrix (that will be symmetric with regard to the diagonal). The diagonal\n",
      "    of the coincidence matrix contains the total number of spikes for the respective cell.\n",
      "    '''\n",
      "    add_to_magic_network = True\n",
      "    invalidates_magic_network = False\n",
      "    \n",
      "    def __init__(self, source, when=None, name='coincidence_counter*'):\n",
      "        self.source = source\n",
      "        self.N = len(source)\n",
      "        self.coincidences = np.zeros((self.N, self.N), dtype=int)\n",
      "        BrianObject.__init__(self, when=when, name=name)\n",
      "    \n",
      "    def run(self):\n",
      "        spikes = np.zeros(self.N, dtype=bool)\n",
      "        spikes[self.source.spikes] = True\n",
      "        self.coincidences += logical_and(spikes.reshape(self.N, -1),\n",
      "                                         spikes.reshape(-1, self.N))\n",
      "        BrianObject.run(self)\n",
      "        "
     ],
     "language": "python",
     "metadata": {},
     "outputs": [],
     "prompt_number": 2
    },
    {
     "cell_type": "code",
     "collapsed": false,
     "input": [
      "P = PoissonGroup(10, rates=1000*Hz)\n",
      "mon = CoincidenceCounter(P)\n",
      "run(10*ms)"
     ],
     "language": "python",
     "metadata": {},
     "outputs": [],
     "prompt_number": 3
    },
    {
     "cell_type": "code",
     "collapsed": false,
     "input": [
      "imshow(mon.coincidences, interpolation='nearest', cmap='hot')\n",
      "colorbar()"
     ],
     "language": "python",
     "metadata": {},
     "outputs": [
      {
       "metadata": {},
       "output_type": "pyout",
       "prompt_number": 4,
       "text": [
        "<matplotlib.colorbar.Colorbar instance at 0x7f1cea441878>"
       ]
      },
      {
       "metadata": {},
       "output_type": "display_data",
       "png": "[encoded data removed]",
       "text": [
        "<matplotlib.figure.Figure at 0x7f1cea6a8190>"
       ]
      }
     ],
     "prompt_number": 4
    },
    {
     "cell_type": "code",
     "collapsed": false,
     "input": [],
     "language": "python",
     "metadata": {},
     "outputs": []
    }
   ],
   "metadata": {}
  }
 ]
}