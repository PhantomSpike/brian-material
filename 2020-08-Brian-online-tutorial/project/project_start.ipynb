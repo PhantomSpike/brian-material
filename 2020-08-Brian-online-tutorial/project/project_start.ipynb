{
 "cells": [
  {
   "cell_type": "code",
   "execution_count": 1,
   "metadata": {
    "scrolled": true
   },
   "outputs": [
    {
     "name": "stderr",
     "output_type": "stream",
     "text": [
      "/home/marcel/conda/envs/brian_tutorial/lib/python3.7/site-packages/setuptools/distutils_patch.py:26: UserWarning: Distutils was imported before Setuptools. This usage is discouraged and may exhibit undesirable behaviors or errors. Please use Setuptools' objects directly or at least import Setuptools first.\n",
      "  \"Distutils was imported before Setuptools. This usage is discouraged \"\n"
     ]
    }
   ],
   "source": [
    "from brian2 import *\n",
    "%matplotlib inline\n",
    "prefs.codegen.target = 'numpy'"
   ]
  },
  {
   "cell_type": "code",
   "execution_count": 2,
   "metadata": {},
   "outputs": [
    {
     "name": "stdout",
     "output_type": "stream",
     "text": [
      "Starting simulation at t=0. s for a duration of 1. s\n",
      "1. s (100%) simulated in 1s\n"
     ]
    }
   ],
   "source": [
    "start_scope()\n",
    "\n",
    "# Membrane time constant of the neuron\n",
    "tau = 10*ms\n",
    "# Noise strength\n",
    "sigma_noise = 0.5\n",
    "# stimulus parameters\n",
    "theta_stim = 0.; amp_stim = 2.\n",
    "# stimulus sensitivity\n",
    "sigma_theta = pi/8; \n",
    "# Number of neurons\n",
    "N_E = 400\n",
    "\n",
    "# excitatory neurons\n",
    "exc_neurons = NeuronGroup(N_E, '''# Noisy membrane potential (rescaled to be between 0 and 1)\n",
    "                                  dv/dt = (-v + I_stim)/tau + sigma_noise*xi*tau**-0.5: 1\n",
    "                                  # The neuron's preferred stimulus\n",
    "                                  theta : 1 (constant)\n",
    "                                  # Difference between the stimulus and the preferred stimulus\n",
    "                                  # (the expression is a bit complicated to cope with a periodic\n",
    "                                  # variable, e.g. -pi should be considered identical to pi)\n",
    "                                  stimulus_diff = (theta - theta_stim + pi)%(2*pi) - pi : radian\n",
    "                                  # Stimulus current, as a Gaussian of the stimulus difference\n",
    "                                  I_stim = amp_stim*exp(-stimulus_diff**2/(2*sigma_theta)**2) : 1\n",
    "                                  ''', threshold='v>1', reset='v=0',\n",
    "                          method='euler')\n",
    "# Initialize the membrane potential randomly\n",
    "exc_neurons.v = 'rand()*0.5'\n",
    "# Uniformly distribute preferred stimuli between -pi and pi\n",
    "exc_neurons.theta = '-pi + 2*pi*i/N_E'\n",
    "\n",
    "# Monitor neurons\n",
    "exc_mon = SpikeMonitor(exc_neurons)\n",
    "\n",
    "# run simulation\n",
    "run(1000*ms, report='text')"
   ]
  },
  {
   "cell_type": "code",
   "execution_count": 3,
   "metadata": {
    "scrolled": true
   },
   "outputs": [
    {
     "data": {
      "image/png": "[encoded data removed]",
      "text/plain": [
       "<Figure size 432x288 with 1 Axes>"
      ]
     },
     "metadata": {
      "needs_background": "light"
     },
     "output_type": "display_data"
    }
   ],
   "source": [
    "fig, ax = plt.subplots()\n",
    "ax.plot(exc_mon.t/ms, exc_neurons.theta[exc_mon.i], '|')\n",
    "ax.set(ylabel='preferred stim', xlabel='time (ms)');"
   ]
  },
  {
   "cell_type": "markdown",
   "metadata": {},
   "source": [
    "## Things to explore\n",
    "\n",
    "* Switch off the stimulus after the end of the simulation and continue the simulation\n",
    "* Connect the neurons among each other with synapses. Can you get sustained activity after the stimulus switches off?\n",
    "* Instead of connecting all neurons to all other neurons, connect them preferrably (or with stronger weights) to neurons with similar stimulus preference.\n",
    "* Introduce an inhibitory population and connect it to the excitatory population\n",
    "* Add a second stimulus or change the stimulus over time\n",
    "* Be creative!"
   ]
  }
 ],
 "metadata": {
  "kernelspec": {
   "display_name": "Python [conda env:brian_tutorial] *",
   "language": "python",
   "name": "conda-env-brian_tutorial-py"
  },
  "language_info": {
   "codemirror_mode": {
    "name": "ipython",
    "version": 3
   },
   "file_extension": ".py",
   "mimetype": "text/x-python",
   "name": "python",
   "nbconvert_exporter": "python",
   "pygments_lexer": "ipython3",
   "version": "3.7.8"
  }
 },
 "nbformat": 4,
 "nbformat_minor": 2
}
