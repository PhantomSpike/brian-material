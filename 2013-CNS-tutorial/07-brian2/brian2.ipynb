{
 "metadata": {
  "name": "brian2"
 },
 "nbformat": 3,
 "nbformat_minor": 0,
 "worksheets": [
  {
   "cells": [
    {
     "cell_type": "heading",
     "level": 1,
     "metadata": {},
     "source": [
      "Brian\u00b2"
     ]
    },
    {
     "cell_type": "code",
     "collapsed": false,
     "input": [
      "from brian2 import *\n",
      "import numpy as np"
     ],
     "language": "python",
     "metadata": {},
     "outputs": [],
     "prompt_number": 2
    },
    {
     "cell_type": "heading",
     "level": 2,
     "metadata": {},
     "source": [
      "Major changes for the user"
     ]
    },
    {
     "cell_type": "heading",
     "level": 3,
     "metadata": {},
     "source": [
      "Arrays with unit support"
     ]
    },
    {
     "cell_type": "code",
     "collapsed": false,
     "input": [
      "[1, 2, 3] * mV"
     ],
     "language": "python",
     "metadata": {},
     "outputs": [
      {
       "latex": [
        "$\\left[\\begin{smallmatrix}1.0 & 2.0 & 3.0\\end{smallmatrix}\\right]\\,\\mathrm{m}\\,\\mathrm{V}$"
       ],
       "output_type": "pyout",
       "prompt_number": 2,
       "text": [
        "array([ 1.,  2.,  3.]) * mvolt"
       ]
      }
     ],
     "prompt_number": 2
    },
    {
     "cell_type": "code",
     "collapsed": false,
     "input": [
      "mean(np.arange(12)*Hz)"
     ],
     "language": "python",
     "metadata": {},
     "outputs": [
      {
       "latex": [
        "$5.5\\,\\mathrm{Hz}$"
       ],
       "output_type": "pyout",
       "prompt_number": 3,
       "text": [
        "5.5 * hertz"
       ]
      }
     ],
     "prompt_number": 3
    },
    {
     "cell_type": "code",
     "collapsed": false,
     "input": [
      "var(clip(randn(50)*nS, 0*nS, np.inf*nS))"
     ],
     "language": "python",
     "metadata": {},
     "outputs": [
      {
       "latex": [
        "$0.24972670289\\,\\mathrm{n}\\,\\mathrm{S}^{2}$"
       ],
       "output_type": "pyout",
       "prompt_number": 4,
       "text": [
        "0.2497267 * nsiemens2"
       ]
      }
     ],
     "prompt_number": 4
    },
    {
     "cell_type": "code",
     "collapsed": false,
     "input": [
      "G = NeuronGroup(10, 'dv/dt = -v / (10*ms) : volt')\n",
      "G.v = -70*mV + randn(len(G))*3*mV\n",
      "print mean(G.v[:])"
     ],
     "language": "python",
     "metadata": {},
     "outputs": [
      {
       "output_type": "stream",
       "stream": "stdout",
       "text": [
        "-0.06994091 V\n"
       ]
      }
     ],
     "prompt_number": 5
    },
    {
     "cell_type": "markdown",
     "metadata": {},
     "source": [
      "* No more need to switch off unit-checking, units are not used during a run\n",
      "* *Everything* is checked for correct units (including reset statements, threshold conditions, synaptic updates, ...)"
     ]
    },
    {
     "cell_type": "heading",
     "level": 3,
     "metadata": {},
     "source": [
      "Connection class is replaced by the Synapses class"
     ]
    },
    {
     "cell_type": "code",
     "collapsed": false,
     "input": [
      "G1 = NeuronGroup(10, 'dv/dt = -v / (10*ms) : volt')\n",
      "G2 = NeuronGroup(10, 'dv/dt = -v / (10*ms) : volt')\n",
      "# Brian 1:\n",
      "# C = Connection(G1, G2, 'v', delay=2*ms)\n",
      "# C.connect_one_to_one(G1, G2, weight=1*mV)\n",
      "\n",
      "S = Synapses(G1, G2, '', connect='i==j', pre='v+=1*mV', delay=2*ms)"
     ],
     "language": "python",
     "metadata": {},
     "outputs": [],
     "prompt_number": 6
    },
    {
     "cell_type": "markdown",
     "metadata": {},
     "source": [
      "The syntax for the Synapses class changed slightly compared to Brian 1:"
     ]
    },
    {
     "cell_type": "code",
     "collapsed": false,
     "input": [
      "S = Synapses(G1, G2, 'w:volt', pre='v+=w')\n",
      "# One-to-one connectivity\n",
      "# In Brian1: S[:, :] = 'i==j'\n",
      "S.connect('i==j')\n",
      "\n",
      "# Full connectivity\n",
      "# In Brian1: S[:, :] = True\n",
      "S.connect(True)\n",
      "\n",
      "# 10% connection probability\n",
      "# In Brian1: S[:, :] = 0.1\n",
      "S.connect(True, p=0.1)\n",
      "\n",
      "# 2 synapses per connection\n",
      "# In Brian1: S[:, :] = 2\n",
      "S.connect(True, n=2)\n",
      "\n",
      "# With a probability of 10%: 2 synapses per connection but only for one-to-one pairs\n",
      "# S[:, :] = '(i==j) * (rand()<0.1) * 2'\n",
      "S.connect('i==j', p=0.1, n=2)"
     ],
     "language": "python",
     "metadata": {},
     "outputs": [],
     "prompt_number": 7
    },
    {
     "cell_type": "heading",
     "level": 3,
     "metadata": {},
     "source": [
      "String-based indexing and string-based assignments"
     ]
    },
    {
     "cell_type": "markdown",
     "metadata": {},
     "source": [
      "State variables of neurons or synapses can be accessed/set using strings. This is the recommended way of doing things!"
     ]
    },
    {
     "cell_type": "code",
     "collapsed": false,
     "input": [
      "G = NeuronGroup(10, 'dv/dt = -v / (10*ms) : 1')\n",
      "G.v = 1.0*np.arange(len(G)) / len(G)\n",
      "print G.v[:]\n",
      "G.v = '1.0*i / _num_neurons' # i is the neuronal index\n",
      "print G.v[:]"
     ],
     "language": "python",
     "metadata": {},
     "outputs": [
      {
       "output_type": "stream",
       "stream": "stdout",
       "text": [
        "[ 0.   0.1  0.2  0.3  0.4  0.5  0.6  0.7  0.8  0.9]\n",
        "[ 0.   0.1  0.2  0.3  0.4  0.5  0.6  0.7  0.8  0.9]\n"
       ]
      }
     ],
     "prompt_number": 22
    },
    {
     "cell_type": "code",
     "collapsed": false,
     "input": [
      "G = NeuronGroup(10, 'dv/dt = -v / (10*ms) : 1')\n",
      "S = Synapses(G, G, 'w:1', pre='v+=w', connect=True)\n",
      "S.w['i!=j'] = 0.1\n",
      "print S.w[:].reshape((10, 10))"
     ],
     "language": "python",
     "metadata": {},
     "outputs": [
      {
       "output_type": "stream",
       "stream": "stdout",
       "text": [
        "[[ 0.   0.1  0.1  0.1  0.1  0.1  0.1  0.1  0.1  0.1]\n",
        " [ 0.1  0.   0.1  0.1  0.1  0.1  0.1  0.1  0.1  0.1]\n",
        " [ 0.1  0.1  0.   0.1  0.1  0.1  0.1  0.1  0.1  0.1]\n",
        " [ 0.1  0.1  0.1  0.   0.1  0.1  0.1  0.1  0.1  0.1]\n",
        " [ 0.1  0.1  0.1  0.1  0.   0.1  0.1  0.1  0.1  0.1]\n",
        " [ 0.1  0.1  0.1  0.1  0.1  0.   0.1  0.1  0.1  0.1]\n",
        " [ 0.1  0.1  0.1  0.1  0.1  0.1  0.   0.1  0.1  0.1]\n",
        " [ 0.1  0.1  0.1  0.1  0.1  0.1  0.1  0.   0.1  0.1]\n",
        " [ 0.1  0.1  0.1  0.1  0.1  0.1  0.1  0.1  0.   0.1]\n",
        " [ 0.1  0.1  0.1  0.1  0.1  0.1  0.1  0.1  0.1  0. ]]\n"
       ]
      }
     ],
     "prompt_number": 24
    },
    {
     "cell_type": "heading",
     "level": 3,
     "metadata": {},
     "source": [
      "Named objects"
     ]
    },
    {
     "cell_type": "markdown",
     "metadata": {},
     "source": [
      "All Brian objects now have unique names (if no name is given, an automatic one is chosen)\n",
      "\n",
      "* very useful for debugging (names are used in generated code)\n",
      "* allows to get specific objects from a network"
     ]
    },
    {
     "cell_type": "code",
     "collapsed": false,
     "input": [
      "# Automatic names\n",
      "print G.name\n",
      "print S.name\n",
      "\n",
      "# Assigned name\n",
      "E = NeuronGroup(10, 'dv/dt = -v/(10*ms) : 1', name='excitatory')\n",
      "print E.name"
     ],
     "language": "python",
     "metadata": {},
     "outputs": [
      {
       "output_type": "stream",
       "stream": "stdout",
       "text": [
        "neurongroup\n",
        "synapses_1\n",
        "excitatory\n"
       ]
      }
     ],
     "prompt_number": 8
    },
    {
     "cell_type": "code",
     "collapsed": false,
     "input": [
      "def create_network():\n",
      "    G = NeuronGroup(10, 'dv/dt = -v/(10*ms) : 1', name='group')\n",
      "    mon = StateMonitor(G, 'v', record=True, name='monitor')\n",
      "    return Network(G, mon)\n",
      "\n",
      "net = create_network()\n",
      "print net['monitor']"
     ],
     "language": "python",
     "metadata": {},
     "outputs": [
      {
       "output_type": "stream",
       "stream": "stdout",
       "text": [
        "<StateMonitor, recording ['v'] from group>\n"
       ]
      }
     ],
     "prompt_number": 9
    },
    {
     "cell_type": "heading",
     "level": 3,
     "metadata": {},
     "source": [
      "More consistent/predictable handling of namespaces -- better support for multiple runs"
     ]
    },
    {
     "cell_type": "markdown",
     "metadata": {},
     "source": [
      "Namespaces (mappings from names to values, e.g. \"'v_th' means 0*mV\") are handled quite differently from Brian 1:\n",
      "\n",
      "* A namespace can be defined individually for a Brian object (NeuronGroup, Synapses). It does not have to be complete at the time of the object creation, it can be later filled in (via the `namespace` attribute) and only has to be complete at the start of a run\n",
      "* For objects that did not specify an individual namespace, the namespace is filled with the namespace at the point of the `run` function (either from an explicit `namespace` argument, or from the surrounding \"implicit\" namespace)\n",
      "* Namespaces can change between runs\n",
      "* Note: For simple, \"flat\" scripts (e.g. most of the Brian examples), nothing changes"
     ]
    },
    {
     "cell_type": "code",
     "collapsed": false,
     "input": [
      "# Explicit namespace\n",
      "G = NeuronGroup(10, 'dv/dt = -v / tau : 1', namespace={'tau': 10*ms})\n",
      "G.v = linspace(0, 1, len(G))\n",
      "mon = StateMonitor(G, 'v', record=True)\n",
      "net = Network(G, mon)\n",
      "net.run(5*ms)\n",
      "G.namespace['tau'] = 20*ms\n",
      "net.run(5*ms)\n",
      "\n",
      "_ = plot(mon.t / ms, mon.v)"
     ],
     "language": "python",
     "metadata": {},
     "outputs": [
      {
       "output_type": "stream",
       "stream": "stdout",
       "text": [
        "Took  0.002760887146 s in total.\n",
        "Took  0.00287580490112 s in total.\n"
       ]
      },
      {
       "output_type": "display_data",
       "png": "[encoded data removed]"
      }
     ],
     "prompt_number": 13
    },
    {
     "cell_type": "code",
     "collapsed": false,
     "input": [
      "# Implicit namespace\n",
      "G = NeuronGroup(10, 'dv/dt = -v / tau : 1')\n",
      "tau = 10*ms  # does not need to be defined before!\n",
      "G.v = linspace(0, 1, len(G))\n",
      "mon = StateMonitor(G, 'v', record=True)\n",
      "net = Network(G, mon)\n",
      "net.run(5*ms)\n",
      "tau = 20*ms  # this would have no effect in Brian 1!\n",
      "net.run(5*ms)\n",
      "\n",
      "_ = plot(mon.t / ms, mon.v)"
     ],
     "language": "python",
     "metadata": {},
     "outputs": [
      {
       "output_type": "stream",
       "stream": "stdout",
       "text": [
        "Took  0.00283598899841 s in total.\n",
        "Took  0.00260615348816 s in total.\n"
       ]
      },
      {
       "output_type": "display_data",
       "png": "[encoded data removed]"
      }
     ],
     "prompt_number": 14
    },
    {
     "cell_type": "heading",
     "level": 4,
     "metadata": {},
     "source": [
      "New system for explicit numerical integration methods"
     ]
    },
    {
     "cell_type": "markdown",
     "metadata": {},
     "source": [
      "Explicit numerical integration methods can be specified using mathematical notation"
     ]
    },
    {
     "cell_type": "code",
     "collapsed": false,
     "input": [
      "forward_euler = ExplicitStateUpdater('return x + dt * f(x, t)')\n",
      "forward_euler"
     ],
     "language": "python",
     "metadata": {},
     "outputs": [
      {
       "latex": [
        "\\begin{equation}\n",
        "x_{t+1} = dt \\operatorname{f}{\\left (x,t \\right )} + x\n",
        "\\end{equation}"
       ],
       "output_type": "pyout",
       "prompt_number": 32,
       "text": [
        "ExplicitStateUpdater('''return dt*f(x, t) + x''', stochastic=None)"
       ]
      }
     ],
     "prompt_number": 32
    },
    {
     "cell_type": "code",
     "collapsed": false,
     "input": [
      "print forward_euler(Equations('''dv/dt = (-v + w)/ tau_v : 1\n",
      "                                 dw/dt = -w / tau_w : 1'''))"
     ],
     "language": "python",
     "metadata": {},
     "outputs": [
      {
       "output_type": "stream",
       "stream": "stdout",
       "text": [
        "_w = -dt*w/tau_w + w\n",
        "_v = dt*(-v + w)/tau_v + v\n",
        "w = _w\n",
        "v = _v\n"
       ]
      }
     ],
     "prompt_number": 36
    },
    {
     "cell_type": "markdown",
     "metadata": {},
     "source": [
      "* Stochastic equations are handled properly, Euler integration can used for additive noise, the derivative-free Milstein method for multiplicative noise\n",
      "* The state updater system is easily extendable, no core code has to change when a new state updater is added"
     ]
    },
    {
     "cell_type": "heading",
     "level": 3,
     "metadata": {},
     "source": [
      "Further new features"
     ]
    },
    {
     "cell_type": "heading",
     "level": 4,
     "metadata": {},
     "source": [
      "\"Rich display\" in ipython notebooks"
     ]
    },
    {
     "cell_type": "code",
     "collapsed": false,
     "input": [
      "eqs = Equations('''dv/dt = (g_L*(E_L - v) + g_s*(E_s - v))/tau_m : volt\n",
      "                   dg_s/dt = -g_s/tau_s : siemens''')\n",
      "eqs"
     ],
     "language": "python",
     "metadata": {},
     "outputs": [
      {
       "latex": [
        "\\begin{align}\\frac{\\partial}{\\partial t} g_{s} &= - \\frac{g_{s}}{\\tau_{s}} && \\text{(unit: $\\mathrm{S}$)}\\\\\\frac{\\partial}{\\partial t} v &= \\frac{g_{L} \\left(E_{L} - v\\right) + g_{s} \\left(E_{s} - v\\right)}{\\tau_{m}} && \\text{(unit: $\\mathrm{V}$)}\\end{align}"
       ],
       "output_type": "pyout",
       "prompt_number": 4,
       "text": [
        "dg_s/dt = -g_s/tau_s : siemens\n",
        "dv/dt = (g_L*(E_L - v) + g_s*(E_s - v))/tau_m : volt\n"
       ]
      }
     ],
     "prompt_number": 4
    },
    {
     "cell_type": "heading",
     "level": 4,
     "metadata": {},
     "source": [
      "New preference system"
     ]
    },
    {
     "cell_type": "markdown",
     "metadata": {},
     "source": [
      "Accessable using either attribute or dictionary access"
     ]
    },
    {
     "cell_type": "code",
     "collapsed": false,
     "input": [
      "print brian_prefs.core.default_scalar_dtype\n",
      "print brian_prefs['core.default_scalar_dtype']"
     ],
     "language": "python",
     "metadata": {},
     "outputs": [
      {
       "output_type": "stream",
       "stream": "stdout",
       "text": [
        "<type 'numpy.float64'>\n",
        "<type 'numpy.float64'>\n"
       ]
      }
     ],
     "prompt_number": 28
    },
    {
     "cell_type": "markdown",
     "metadata": {},
     "source": [
      "* Default preference values are stored in a file in the brian installation directory, can be overwritten using a file in the user's home directory or in the simulation directory\n",
      "* Extensions to Brian can create and document their own preferences, they are accessible via the common system"
     ]
    },
    {
     "cell_type": "heading",
     "level": 4,
     "metadata": {},
     "source": [
      "New logging system"
     ]
    },
    {
     "cell_type": "markdown",
     "metadata": {},
     "source": [
      "By default, a debug log is written to the temp directory, will normally be deleted after a run but will be kept if an uncaught exception occurs."
     ]
    },
    {
     "cell_type": "heading",
     "level": 4,
     "metadata": {},
     "source": [
      "New documentation system"
     ]
    },
    {
     "cell_type": "markdown",
     "metadata": {},
     "source": [
      "* Brian now uses it's own extension of the numpydoc sphinx extension, allowing for docstrings that are well readable in source code and generate well-readable HTML documentation.\n",
      "* Reference documentation for all Brian classes is automatically created and kept up-to-date."
     ]
    },
    {
     "cell_type": "heading",
     "level": 2,
     "metadata": {},
     "source": [
      "Current state of Brian 2"
     ]
    },
    {
     "cell_type": "markdown",
     "metadata": {},
     "source": [
      "Useable for curious users and up for testing, download it from github: https://github.com/brian-team/brian2\n",
      "\n",
      "You can directly download and install it with pip: `pip install -e git+https://github.com/brian-team/brian2`\n",
      "\n",
      "**What is missing?**\n",
      "\n",
      "* Handling of subgroups\n",
      "* dynamic connections (provided by the old `Connections` object)\n",
      "* many convenience classes: `TimedArray`, `PoissonInput`, `PopulationRateMonitor`, etc.\n",
      "* Support for other codegeneration targets than Python or C++ (e.g. CUDA)\n",
      "* User-documentation (beyond the class reference)\n",
      "* Developer documentation that accurately reflects the current state everywhere :)\n",
      "* Some cleaning up/polishing\n",
      "\n",
      "**What's next?**\n",
      "\n",
      "* Alpha version soon\n",
      "* Feature-complete Beta version after the summer\n",
      "* First release at the end of the year"
     ]
    }
   ],
   "metadata": {}
  }
 ]
}