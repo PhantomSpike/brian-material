{
 "metadata": {
  "name": "Brian hears tutorial"
 },
 "nbformat": 3,
 "nbformat_minor": 0,
 "worksheets": [
  {
   "cells": [
    {
     "cell_type": "code",
     "collapsed": false,
     "input": [
      "%pylab\n",
      "%reset\n",
      "from brian import *\n",
      "set_global_preferences(useweave=True)\n",
      "#set_global_preferences(usegpu=True)\n",
      "from brian.hears import *"
     ],
     "language": "python",
     "metadata": {},
     "outputs": [
      {
       "output_type": "stream",
       "stream": "stdout",
       "text": [
        "\n",
        "Welcome to pylab, a matplotlib-based Python environment [backend: TkAgg].\n",
        "For more information, type 'help(pylab)'.\n"
       ]
      }
     ],
     "prompt_number": 42
    },
    {
     "cell_type": "heading",
     "level": 2,
     "metadata": {},
     "source": [
      "Define inputs"
     ]
    },
    {
     "cell_type": "code",
     "collapsed": false,
     "input": [
      "duration = .1*second\n",
      "samplerate = 44.1*kHz\n",
      "sound1 = tone(1*kHz, duration,samplerate = samplerate)\n",
      "sound2 = whitenoise(duration,samplerate = samplerate)\n",
      "taxis = arange(0*ms,duration,1./samplerate)\n",
      "sound = sound1+sound2\n",
      "sound = sound.ramp()\n",
      "#sound = loadsound('test.wav')\n",
      "\n",
      "#sound = sound.extended(20*ms)\n",
      "#sound = sound.repeat(5)\n",
      "#sound.level = 50*dB\n",
      "\n",
      "figure()\n",
      "subplot(311)\n",
      "plot(taxis,sound1)\n",
      "subplot(312)\n",
      "plot(taxis,sound2)\n",
      "subplot(313)\n",
      "plot(taxis,sound)\n",
      "xlabel('time axis (s)')\n",
      "show()"
     ],
     "language": "python",
     "metadata": {},
     "outputs": [],
     "prompt_number": 43
    },
    {
     "cell_type": "code",
     "collapsed": false,
     "input": [
      "\n",
      "#sound = powerlawnoise(200*ms, 1, samplerate=44100*Hz)\n",
      "#sound = whitenoise(duration,samplerate = samplerate)\n",
      "sound = harmoniccomplex(1000*Hz,100*ms)\n",
      "sound = sound.ramp(when='both', duration=10.0 * msecond, envelope=lambda t :sin(pi*t/2)**2)\n",
      "#sound = sound.extended(20*ms)\n",
      "#sound = sound.repeat(5)\n",
      "sound.level = 50*dB\n",
      "figure()\n",
      "subplot(211)\n",
      "sound.spectrogram()\n",
      "subplot(212)\n",
      "plot(sound)\n",
      "show()"
     ],
     "language": "python",
     "metadata": {},
     "outputs": [],
     "prompt_number": 40
    },
    {
     "cell_type": "heading",
     "level": 2,
     "metadata": {},
     "source": [
      "Simple cochlear model: gammatone+envelope extraction"
     ]
    },
    {
     "cell_type": "code",
     "collapsed": false,
     "input": [
      "cf = erbspace(20*Hz, 20*kHz, 3000)\n",
      "basilar_membrane = Gammatone(sound, cf)\n",
      "half_wave_rect = lambda x: 3*clip(x, 0, Inf)**(1.0/3.0)\n",
      "hair_cell1 = FunctionFilterbank(basilar_membrane,half_wave_rect)\n",
      "hair_cell = LowPass(hair_cell1, 800*Hz)\n",
      "\n",
      "out_hair_cell = hair_cell.process()\n",
      "\n",
      "\n",
      "imshow(out_hair_cell.T, origin='lower left', aspect='auto', vmin=0,extent=(0, sound.duration/ms,cf[0], cf[-1]))\n",
      "ylabel('Frequency (Hz)')\n",
      "xlabel('Time (ms)')\n",
      "show()"
     ],
     "language": "python",
     "metadata": {},
     "outputs": [],
     "prompt_number": 44
    },
    {
     "cell_type": "heading",
     "level": 2,
     "metadata": {},
     "source": [
      "Auditory nerve model"
     ]
    },
    {
     "cell_type": "code",
     "collapsed": false,
     "input": [
      "# Leaky integrate-and-fire model with noise and refractoriness\n",
      "tau = 1*ms\n",
      "eqs = '''\n",
      "dv/dt = (I-v)/(tau)+0.2*xi*(2/(tau))**.5 : 1\n",
      "I : 1\n",
      "'''\n",
      "anf = FilterbankGroup(hair_cell1, 'I', eqs, reset=0, threshold=1, refractory=2*ms)\n",
      "\n",
      "M = SpikeMonitor(anf)\n",
      "run(sound.duration)\n",
      "figure()\n",
      "raster_plot(M)\n",
      "show()"
     ],
     "language": "python",
     "metadata": {},
     "outputs": [],
     "prompt_number": 50
    },
    {
     "cell_type": "heading",
     "level": 2,
     "metadata": {},
     "source": [
      "Multiple paths"
     ]
    },
    {
     "cell_type": "code",
     "collapsed": false,
     "input": [
      "sound.level = 50*dB\n",
      "linear_path = Gammatone(sound, cf)\n",
      "\n",
      "bandpass_nonlinear1 = Gammatone(sound, cf+10)\n",
      "func_compression = lambda x: sign(x)*abs(x)**0.3\n",
      "non_linear_path = FunctionFilterbank(bandpass_nonlinear1, func_compression)\n",
      "\n",
      "total_path = linear_path+non_linear_path\n",
      "output = total_path.process()\n",
      "\n",
      "figure()\n",
      "imshow(output.T, origin='lower left', aspect='auto', vmin=0,extent=(0, sound.duration/ms,cf[0], cf[-1]))\n",
      "ylabel('Frequency (Hz)')\n",
      "xlabel('Time (ms)')\n",
      "show()"
     ],
     "language": "python",
     "metadata": {},
     "outputs": [],
     "prompt_number": 52
    },
    {
     "cell_type": "heading",
     "level": 2,
     "metadata": {},
     "source": [
      "Non-linear model"
     ]
    },
    {
     "cell_type": "code",
     "collapsed": false,
     "input": [
      "sound.level = 100*dB\n",
      "cf = erbspace(20*Hz, 2*kHz, 300)\n",
      "param_drnl = {'lp_nl_cutoff_m':1.1}\n",
      "drnl_filter=DRNL(sound, cf, type='human', param=param_drnl)\n",
      "output = drnl_filter.process()\n",
      "\n",
      "imshow(output.T, origin='lower left', aspect='auto', vmin=0,extent=(0, sound.duration/ms,cf[0], cf[-1]))\n",
      "ylabel('Frequency (Hz)')\n",
      "xlabel('Time (ms)')\n",
      "show()"
     ],
     "language": "python",
     "metadata": {},
     "outputs": [],
     "prompt_number": 14
    },
    {
     "cell_type": "heading",
     "level": 2,
     "metadata": {},
     "source": [
      "Simulation parallelization"
     ]
    },
    {
     "cell_type": "code",
     "collapsed": false,
     "input": [
      "nsounds = 3\n",
      "sound = Sound(randn(4000, nsounds), samplerate=16*kHz)\n",
      "\n",
      "nchannels = 100\n",
      "cf = erbspace(20*Hz, 10*kHz, nchannels)\n",
      "cf = tile(cf,nsounds)\n",
      "\n",
      "sound = Repeat(sound,nchannels)\n",
      "\n",
      "gf = Gammatone(sound, cf)\n",
      "\n",
      "output = gf.process()\n",
      "\n",
      "imshow(output.T, origin='lower left', aspect='auto', vmin=0,extent=(0, sound.duration/ms,cf[0], cf[-1]))\n",
      "ylabel('Frequency (Hz)')\n",
      "xlabel('Time (ms)')\n",
      "show()"
     ],
     "language": "python",
     "metadata": {},
     "outputs": [],
     "prompt_number": 28
    },
    {
     "cell_type": "heading",
     "level": 2,
     "metadata": {},
     "source": [
      "Online computation"
     ]
    },
    {
     "cell_type": "raw",
     "metadata": {},
     "source": [
      "example: compute online rms value\n",
      "\n",
      "Filterbank.process() method allows us to pass an optional function f(input, running) \n",
      "process() will first call running = f(output, 0) for the first buffered segment input\n",
      "It will then call running = f(output, running) for each subsequent segment\n",
      "\n"
     ]
    },
    {
     "cell_type": "code",
     "collapsed": false,
     "input": [
      "def sum_of_squares(input, running):\n",
      "    return running+sum(input**2, axis=0)\n",
      "nsamples = 100\n",
      "rms = sqrt(gf.process(sum_of_squares)/nsamples)\n",
      "print rms"
     ],
     "language": "python",
     "metadata": {},
     "outputs": [
      {
       "output_type": "stream",
       "stream": "stdout",
       "text": [
        "[ 0.33467137  0.34731127  0.35702791  0.37547593  0.36254372  0.37587322\n",
        "  0.39852222  0.40815269  0.4389028   0.4911106   0.51064907  0.49710132\n",
        "  0.47380814  0.46445007  0.46466203  0.49929454  0.54862494  0.55898672\n",
        "  0.5752122   0.60992201  0.59089479  0.5404061   0.53967981  0.55858502\n",
        "  0.5353092   0.49376489  0.4906964   0.54787497  0.59646792  0.63732329\n",
        "  0.65482915  0.6469999   0.63371205  0.61718786  0.64791964  0.6655609\n",
        "  0.64640589  0.62798376  0.63162654  0.67150314  0.74155884  0.81528201\n",
        "  0.87081293  0.90772492  0.91379024  0.89190434  0.88272417  0.89824593\n",
        "  0.93500465  0.96378526  0.97260845  0.93077832  0.95146536  1.02022723\n",
        "  1.01864771  1.00584695  1.02714083  1.11223307  1.18132958  1.16860336\n",
        "  1.146998    1.14923836  1.16983651  1.21454975  1.26306496  1.24085318\n",
        "  1.20256552  1.22023293  1.28653174  1.36524927  1.39018886  1.38392026\n",
        "  1.40920368  1.44293153  1.45825673  1.46672936  1.50396776  1.56428959\n",
        "  1.60311642  1.63546316  1.68567169  1.70834346  1.74545301  1.75385568\n",
        "  1.72873721  1.72420234  1.75140693  1.8364141   1.92449624  2.00266106\n",
        "  2.07677917  2.05932543  2.03032761  1.55387449  1.96507517  2.11867222\n",
        "  2.27925597  2.32001802  2.3033758   2.300264    0.31304189  0.30987501\n",
        "  0.2899308   0.33192513  0.3931009   0.39746493  0.38820657  0.40633955\n",
        "  0.44580906  0.44181702  0.41028399  0.37326548  0.3622783   0.39097973\n",
        "  0.43192326  0.48004629  0.52278686  0.52115358  0.47107377  0.45627449\n",
        "  0.46893035  0.51088308  0.5822393   0.61542467  0.58541029  0.57457202\n",
        "  0.60138222  0.60956795  0.63805409  0.68808885  0.71908867  0.67809423\n",
        "  0.63986839  0.69102225  0.72891999  0.71148832  0.72454715  0.73724841\n",
        "  0.7437189   0.78477351  0.82724108  0.85374297  0.83609923  0.80215671\n",
        "  0.81179297  0.85559068  0.86830223  0.86126508  0.88108944  0.90539074\n",
        "  0.88234121  0.87009496  0.89639764  0.93421866  0.9774528   1.03975231\n",
        "  1.09657621  1.14056232  1.19262833  1.2260151   1.18944064  1.14630392\n",
        "  1.17890379  1.23622223  1.25943032  1.26220072  1.30652933  1.38245301\n",
        "  1.41828352  1.42121872  1.42503128  1.41710194  1.41693833  1.45853238\n",
        "  1.47027533  1.47103545  1.49668115  1.53632039  1.58688699  1.63982681\n",
        "  1.676376    1.68152922  1.69176024  1.71787973  1.77064869  1.83961526\n",
        "  1.86742861  1.8755557   1.89735775  1.97384241  2.05703649  2.05724091\n",
        "  2.05934219  1.53216816  1.963355    2.12466622  2.26156112  2.30277613\n",
        "  2.33264334  2.38415225  0.42445676  0.44748854  0.44947661  0.42614891\n",
        "  0.39404003  0.36189457  0.40739658  0.48670006  0.46158171  0.40874758\n",
        "  0.41862194  0.43696909  0.42438574  0.41926255  0.41704816  0.42178562\n",
        "  0.43944655  0.4309789   0.44086017  0.46137589  0.47537579  0.51369384\n",
        "  0.5722089   0.65501948  0.71561627  0.71765234  0.6704682   0.61623516\n",
        "  0.58338753  0.59818958  0.64106608  0.63891027  0.63767192  0.66120206\n",
        "  0.67722985  0.71593898  0.780824    0.77293866  0.7095516   0.69298419\n",
        "  0.72162948  0.73707295  0.76141473  0.80198526  0.85468309  0.92423388\n",
        "  0.95000827  0.92223493  0.90556056  0.91632055  0.95925089  0.98454791\n",
        "  1.01621515  1.07907431  1.1384373   1.16239558  1.15894045  1.10145885\n",
        "  1.04567837  1.09479058  1.18091766  1.24620628  1.25989537  1.21431\n",
        "  1.15980517  1.1981926   1.30002018  1.3514977   1.36091639  1.38670769\n",
        "  1.42339304  1.44476787  1.44961821  1.45977617  1.45232712  1.43979112\n",
        "  1.45736245  1.50487938  1.56027105  1.5980582   1.61516112  1.62925135\n",
        "  1.68411811  1.73422811  1.76971241  1.80137667  1.83424816  1.88167304\n",
        "  1.93836406  2.01195526  2.08045389  2.05790367  2.01959237  1.57793102\n",
        "  1.9762297   2.11371971  2.28582825  2.33770076  2.34785761  2.36682344]\n"
       ]
      }
     ],
     "prompt_number": 32
    },
    {
     "cell_type": "code",
     "collapsed": false,
     "input": [],
     "language": "python",
     "metadata": {},
     "outputs": []
    }
   ],
   "metadata": {}
  }
 ]
}