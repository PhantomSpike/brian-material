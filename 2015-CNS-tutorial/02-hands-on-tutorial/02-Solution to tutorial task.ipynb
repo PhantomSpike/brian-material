{
 "cells": [
  {
   "cell_type": "code",
   "execution_count": null,
   "metadata": {
    "collapsed": false
   },
   "outputs": [],
   "source": [
    "%matplotlib inline\n",
    "from brian2 import *\n",
    "from ipywidgets import interact\n",
    "\n",
    "def IFcurve(tau, sigma):\n",
    "    tau = tau*ms\n",
    "    eqs = '''\n",
    "    dv/dt = (mu-v)/tau+sigma*xi*tau**-0.5 : 1\n",
    "    mu = 2.5*i/N : 1\n",
    "    '''\n",
    "    G = NeuronGroup(100, eqs, threshold='v>1', reset='v=0')\n",
    "    M = SpikeMonitor(G)\n",
    "    run(1*second)\n",
    "    plot(G.mu, M.count)\n",
    "    savefig('filename.pdf')\n",
    "    \n",
    "interact(IFcurve, tau=(1.0, 5.0), sigma=(0.0, 2.0))"
   ]
  }
 ],
 "metadata": {
  "kernelspec": {
   "display_name": "Python 2",
   "language": "python",
   "name": "python2"
  },
  "language_info": {
   "codemirror_mode": {
    "name": "ipython",
    "version": 2
   },
   "file_extension": ".py",
   "mimetype": "text/x-python",
   "name": "python",
   "nbconvert_exporter": "python",
   "pygments_lexer": "ipython2",
   "version": "2.7.10"
  }
 },
 "nbformat": 4,
 "nbformat_minor": 0
}
