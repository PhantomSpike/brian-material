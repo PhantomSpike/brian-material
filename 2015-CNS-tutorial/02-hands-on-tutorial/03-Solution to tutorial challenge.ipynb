{
 "cells": [
  {
   "cell_type": "code",
   "execution_count": null,
   "metadata": {
    "collapsed": false
   },
   "outputs": [],
   "source": [
    "%matplotlib inline\n",
    "from brian2 import *\n",
    "prefs.codegen.target = 'numpy'\n",
    "start_scope()\n",
    "\n",
    "n = 50\n",
    "tau = 10*ms\n",
    "duration = 1*second\n",
    "mu_max = 2.5\n",
    "sigma_max = 2.5\n",
    "\n",
    "eqs = '''\n",
    "dv/dt = (mu-v)/tau+sigma*xi*tau**-0.5 : 1\n",
    "x = i%n : integer\n",
    "y = i/n : integer\n",
    "mu = mu_max*y/n : 1\n",
    "sigma = (sigma_max*x)/n : 1\n",
    "'''\n",
    "G = NeuronGroup(n*n, eqs, threshold='v>1', reset='v=0')\n",
    "\n",
    "run(100*ms)\n",
    "M = SpikeMonitor(G)\n",
    "run(duration)\n",
    "\n",
    "\n",
    "C = array(M.count/duration)\n",
    "C.shape = (n, n)\n",
    "imshow(C, origin='lower left', aspect='auto', extent=(0, sigma_max, 0, mu_max))\n",
    "ylabel(r'$\\mu$', fontsize='x-large')\n",
    "xlabel(r'$\\sigma$', fontsize='x-large')\n",
    "colorbar()"
   ]
  }
 ],
 "metadata": {
  "kernelspec": {
   "display_name": "Python 2",
   "language": "python",
   "name": "python2"
  },
  "language_info": {
   "codemirror_mode": {
    "name": "ipython",
    "version": 2
   },
   "file_extension": ".py",
   "mimetype": "text/x-python",
   "name": "python",
   "nbconvert_exporter": "python",
   "pygments_lexer": "ipython2",
   "version": "2.7.10"
  }
 },
 "nbformat": 4,
 "nbformat_minor": 0
}
