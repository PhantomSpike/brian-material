{
 "cells": [
  {
   "cell_type": "code",
   "execution_count": null,
   "metadata": {
    "collapsed": false
   },
   "outputs": [],
   "source": [
    "%matplotlib inline\n",
    "from brian2 import *"
   ]
  },
  {
   "cell_type": "code",
   "execution_count": null,
   "metadata": {
    "collapsed": false
   },
   "outputs": [],
   "source": [
    "class CoincidenceCounter(BrianObject):\n",
    "    '''\n",
    "    Monitor that counts coincidences between spikes in a group of neurons. Very simple\n",
    "    implementation that only counts exact coincidences (same time step) and stores\n",
    "    a full NxN matrix (that will be symmetric with regard to the diagonal). The diagonal\n",
    "    of the coincidence matrix contains the total number of spikes for the respective cell.\n",
    "    '''\n",
    "    add_to_magic_network = True\n",
    "    invalidates_magic_network = False\n",
    "    \n",
    "    def __init__(self, source, when='after_thresholds', name='coincidence_counter*'):\n",
    "        self.source = source\n",
    "        self.N = len(source)\n",
    "        self.coincidences = np.zeros((self.N, self.N), dtype=int)\n",
    "        BrianObject.__init__(self, when=when, name=name)\n",
    "    \n",
    "    def run(self):\n",
    "        spikes = np.zeros(self.N, dtype=bool)\n",
    "        spikes[self.source.spikes] = True\n",
    "        self.coincidences += logical_and(spikes.reshape(self.N, -1),\n",
    "                                         spikes.reshape(-1, self.N))\n",
    "        BrianObject.run(self)\n",
    "        "
   ]
  },
  {
   "cell_type": "code",
   "execution_count": null,
   "metadata": {
    "collapsed": false
   },
   "outputs": [],
   "source": [
    "P = PoissonGroup(10, rates=1000*Hz)\n",
    "mon = CoincidenceCounter(P)\n",
    "run(10*ms)"
   ]
  },
  {
   "cell_type": "code",
   "execution_count": null,
   "metadata": {
    "collapsed": false
   },
   "outputs": [],
   "source": [
    "imshow(mon.coincidences, interpolation='nearest', cmap='hot')\n",
    "colorbar()"
   ]
  }
 ],
 "metadata": {
  "kernelspec": {
   "display_name": "Python 2",
   "language": "python",
   "name": "python2"
  },
  "language_info": {
   "codemirror_mode": {
    "name": "ipython",
    "version": 2
   },
   "file_extension": ".py",
   "mimetype": "text/x-python",
   "name": "python",
   "nbconvert_exporter": "python",
   "pygments_lexer": "ipython2",
   "version": "2.7.10"
  }
 },
 "nbformat": 4,
 "nbformat_minor": 0
}
