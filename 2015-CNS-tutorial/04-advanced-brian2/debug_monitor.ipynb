{
 "cells": [
  {
   "cell_type": "code",
   "execution_count": null,
   "metadata": {
    "collapsed": false
   },
   "outputs": [],
   "source": [
    "from brian2 import *"
   ]
  },
  {
   "cell_type": "code",
   "execution_count": null,
   "metadata": {
    "collapsed": false
   },
   "outputs": [],
   "source": [
    "G = NeuronGroup(5, 'dv/dt = -v / (10*ms) : 1')\n",
    "G.v = '1.0*i/N'"
   ]
  },
  {
   "cell_type": "code",
   "execution_count": null,
   "metadata": {
    "collapsed": false
   },
   "outputs": [],
   "source": [
    "class DebugMonitor(BrianObject):\n",
    "    '''\n",
    "    A simple class to demonstrate how to write a custom monitor. Prints out the values\n",
    "    of the recorded value at every timestep.\n",
    "    '''\n",
    "    add_to_magic_network = True\n",
    "    invalidates_magic_network = False\n",
    "    \n",
    "    def __init__(self, source, var, when='start', name='debug_mon*'):\n",
    "        self.source = source\n",
    "        self.var = var\n",
    "        BrianObject.__init__(self, when=when, name=name)\n",
    "    \n",
    "    def before_run(self, run_namespace=None, level=0):\n",
    "        print 'Monitoring', self.source.name\n",
    "        BrianObject.before_run(self, run_namespace, level=level+1)\n",
    "    \n",
    "    def run(self):\n",
    "        print getattr(self.source, self.var)\n",
    "        BrianObject.run(self)"
   ]
  },
  {
   "cell_type": "code",
   "execution_count": null,
   "metadata": {
    "collapsed": false
   },
   "outputs": [],
   "source": [
    "mon = DebugMonitor(G, 'v')"
   ]
  },
  {
   "cell_type": "code",
   "execution_count": null,
   "metadata": {
    "collapsed": false
   },
   "outputs": [],
   "source": [
    "run(1*ms)"
   ]
  },
  {
   "cell_type": "code",
   "execution_count": null,
   "metadata": {
    "collapsed": true
   },
   "outputs": [],
   "source": []
  }
 ],
 "metadata": {
  "kernelspec": {
   "display_name": "Python 2",
   "language": "python",
   "name": "python2"
  },
  "language_info": {
   "codemirror_mode": {
    "name": "ipython",
    "version": 2
   },
   "file_extension": ".py",
   "mimetype": "text/x-python",
   "name": "python",
   "nbconvert_exporter": "python",
   "pygments_lexer": "ipython2",
   "version": "2.7.10"
  }
 },
 "nbformat": 4,
 "nbformat_minor": 0
}
