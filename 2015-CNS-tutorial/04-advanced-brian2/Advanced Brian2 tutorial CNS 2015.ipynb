{
 "cells": [
  {
   "cell_type": "markdown",
   "metadata": {},
   "source": [
    "# Advanced Brian 2"
   ]
  },
  {
   "cell_type": "code",
   "execution_count": null,
   "metadata": {
    "collapsed": false
   },
   "outputs": [],
   "source": [
    "%matplotlib inline\n",
    "from brian2 import *\n",
    "import os\n",
    "\n",
    "def tabula_rasa():\n",
    "    device.reinit()\n",
    "    start_scope()\n",
    "    set_device('runtime')"
   ]
  },
  {
   "cell_type": "markdown",
   "metadata": {},
   "source": [
    "## Custom functions"
   ]
  },
  {
   "cell_type": "code",
   "execution_count": null,
   "metadata": {
    "collapsed": false
   },
   "outputs": [],
   "source": [
    "tabula_rasa()\n",
    "prefs.codegen.target = 'numpy'\n",
    "#prefs.codegen.target = 'weave'\n",
    "\n",
    "@check_units(t=second, result=1)\n",
    "def f(t):\n",
    "    return sin(2*pi*10*Hz*t)\n",
    "\n",
    "G = NeuronGroup(1, 'dv/dt=f(t)/(10*ms):1')\n",
    "M = StateMonitor(G, 'v', record=True)\n",
    "run(100*ms)\n",
    "plot(M.t, M.v[0])"
   ]
  },
  {
   "cell_type": "code",
   "execution_count": null,
   "metadata": {
    "collapsed": false
   },
   "outputs": [],
   "source": [
    "tabula_rasa()\n",
    "prefs.codegen.target = 'auto'\n",
    "BrianLogger.log_level_info()\n",
    "\n",
    "@implementation('cpp', '''\n",
    "#include<math.h>\n",
    "double f(double t)\n",
    "{\n",
    "    return sin(2*M_PI*10*t);\n",
    "}\n",
    "''')\n",
    "@check_units(t=second, result=1)\n",
    "def f(t):\n",
    "    return sin(2*pi*10*Hz*t)\n",
    "\n",
    "G = NeuronGroup(1, 'dv/dt=f(t)/(10*ms):1')\n",
    "M = StateMonitor(G, 'v', record=True)\n",
    "run(100*ms)\n",
    "plot(M.t, M.v[0])"
   ]
  },
  {
   "cell_type": "markdown",
   "metadata": {},
   "source": [
    "## Standalone code generation"
   ]
  },
  {
   "cell_type": "code",
   "execution_count": null,
   "metadata": {
    "collapsed": false
   },
   "outputs": [],
   "source": [
    "tabula_rasa()\n",
    "set_device('cpp_standalone_simple')\n",
    "\n",
    "@implementation('cpp', '''\n",
    "#include<math.h>\n",
    "double f(double t)\n",
    "{\n",
    "    return sin(2*M_PI*10*t);\n",
    "}\n",
    "''')\n",
    "@check_units(t=second, result=1)\n",
    "def f(t):\n",
    "    return sin(2*pi*10*Hz*t)\n",
    "\n",
    "G = NeuronGroup(1, 'dv/dt=f(t)/(10*ms):1')\n",
    "M = StateMonitor(G, 'v', record=True)\n",
    "run(100*ms)\n",
    "plot(M.t, M.v[0])"
   ]
  },
  {
   "cell_type": "code",
   "execution_count": null,
   "metadata": {
    "collapsed": false
   },
   "outputs": [],
   "source": [
    "tabula_rasa()\n",
    "set_device('cpp_standalone')\n",
    "\n",
    "@implementation('cpp', '''\n",
    "#include<math.h>\n",
    "double f(double t)\n",
    "{\n",
    "    return sin(2*M_PI*10*t);\n",
    "}\n",
    "''')\n",
    "@check_units(t=second, result=1)\n",
    "def f(t):\n",
    "    return sin(2*pi*10*Hz*t)\n",
    "\n",
    "G = NeuronGroup(1, 'dv/dt=f(t)/(10*ms):1', name='G1')\n",
    "M = StateMonitor(G, 'v', record=True)\n",
    "run(100*ms)\n",
    "device.build(directory='output', compile=True, run=True)\n",
    "plot(M.t, M.v[0])"
   ]
  },
  {
   "cell_type": "code",
   "execution_count": null,
   "metadata": {
    "collapsed": false
   },
   "outputs": [],
   "source": [
    "ls output"
   ]
  },
  {
   "cell_type": "code",
   "execution_count": null,
   "metadata": {
    "collapsed": false
   },
   "outputs": [],
   "source": [
    "print open('output/code_objects/G1_stateupdater_codeobject.cpp', 'r').read()"
   ]
  },
  {
   "cell_type": "markdown",
   "metadata": {},
   "source": [
    "To use GeNN:"
   ]
  },
  {
   "cell_type": "code",
   "execution_count": null,
   "metadata": {
    "collapsed": true
   },
   "outputs": [],
   "source": [
    "import brian2genn\n",
    "set_device('genn')"
   ]
  },
  {
   "cell_type": "markdown",
   "metadata": {},
   "source": [
    "Unfortunately I don't have an NVIDIA card on this laptop, so I can't show you.\n",
    "\n",
    "But it works.\n",
    "\n",
    "Honest."
   ]
  },
  {
   "cell_type": "markdown",
   "metadata": {},
   "source": [
    "## Limitations of standalone and workarounds\n",
    "\n",
    "Python code is not translated."
   ]
  },
  {
   "cell_type": "code",
   "execution_count": null,
   "metadata": {
    "collapsed": false
   },
   "outputs": [],
   "source": [
    "tabula_rasa()\n",
    "set_device('cpp_standalone')\n",
    "\n",
    "G = NeuronGroup(10, 'v:1', name='G2')\n",
    "G.v = rand(len(G))\n",
    "run(1*ms)\n",
    "device.build(directory='output', compile=True, run=True)\n",
    "plot(G.v)"
   ]
  },
  {
   "cell_type": "code",
   "execution_count": null,
   "metadata": {
    "collapsed": false
   },
   "outputs": [],
   "source": [
    "os.system(r'cd output && main && cd ..')\n",
    "plot(G.v)"
   ]
  },
  {
   "cell_type": "markdown",
   "metadata": {},
   "source": [
    "Brian sees ``neurons.v = an_array_of_values``, and this is stored in a file when you run the Python code:"
   ]
  },
  {
   "cell_type": "code",
   "execution_count": null,
   "metadata": {
    "collapsed": false
   },
   "outputs": [],
   "source": [
    "plot(fromfile('output/static_arrays/_static_array__array_G2_v'))"
   ]
  },
  {
   "cell_type": "markdown",
   "metadata": {},
   "source": [
    "Solution: use string-based initialization."
   ]
  },
  {
   "cell_type": "code",
   "execution_count": null,
   "metadata": {
    "collapsed": false
   },
   "outputs": [],
   "source": [
    "tabula_rasa()\n",
    "set_device('cpp_standalone')\n",
    "\n",
    "G = NeuronGroup(10, 'v:1')\n",
    "G.v = 'rand()'\n",
    "run(1*ms)\n",
    "device.build(directory='output', compile=True, run=True)\n",
    "plot(G.v)"
   ]
  },
  {
   "cell_type": "code",
   "execution_count": null,
   "metadata": {
    "collapsed": false
   },
   "outputs": [],
   "source": [
    "os.system(r'cd output && main && cd ..')\n",
    "plot(G.v)"
   ]
  },
  {
   "cell_type": "markdown",
   "metadata": {},
   "source": [
    "## More flexibility\n",
    "\n",
    "You can insert C++ code directly into the generated code, e.g.:"
   ]
  },
  {
   "cell_type": "code",
   "execution_count": null,
   "metadata": {
    "collapsed": false
   },
   "outputs": [],
   "source": [
    "tabula_rasa()\n",
    "set_device('cpp_standalone')\n",
    "\n",
    "#device.insert_code('main', 'srand(3402343);')\n",
    "G = NeuronGroup(1, 'v:1')\n",
    "G.v = 'rand()'\n",
    "device.insert_code('main', 'cout << \"Hello!\" << endl;')\n",
    "run(1*ms)\n",
    "device.build(directory='output', compile=True)"
   ]
  },
  {
   "cell_type": "code",
   "execution_count": null,
   "metadata": {
    "collapsed": false
   },
   "outputs": [],
   "source": [
    "# IPython hides stdout by default, so we have to use subprocess to see it.\n",
    "import subprocess\n",
    "os.chdir('output')\n",
    "print subprocess.check_output([\"./main\"])  \n",
    "# print subprocess.check_output([\"main\"])  # use this line on Windows instead\n",
    "os.chdir('..')\n",
    "print G.v"
   ]
  },
  {
   "cell_type": "markdown",
   "metadata": {},
   "source": [
    "## Interfacing with your own code\n",
    "\n",
    "Brian has some features to help ease the process of integrating generated code with a fixed library.\n",
    "\n",
    "Talk to us if you want to do this because we're still working on what would be most useful."
   ]
  }
 ],
 "metadata": {
  "kernelspec": {
   "display_name": "Python 2",
   "language": "python",
   "name": "python2"
  },
  "language_info": {
   "codemirror_mode": {
    "name": "ipython",
    "version": 2
   },
   "file_extension": ".py",
   "mimetype": "text/x-python",
   "name": "python",
   "nbconvert_exporter": "python",
   "pygments_lexer": "ipython2",
   "version": "2.7.10"
  }
 },
 "nbformat": 4,
 "nbformat_minor": 0
}
