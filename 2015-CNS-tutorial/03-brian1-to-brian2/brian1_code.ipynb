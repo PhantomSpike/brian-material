{
 "cells": [
  {
   "cell_type": "code",
   "execution_count": null,
   "metadata": {
    "collapsed": false
   },
   "outputs": [],
   "source": [
    "from brian import *\n",
    "\n",
    "clear()\n",
    "defaultclock.t = 0*ms\n",
    "\n",
    "# Time constants\n",
    "taum = 20 * msecond\n",
    "taue = 5 * msecond\n",
    "taui = 10 * msecond\n",
    "# Reversal potentials\n",
    "Ee = (0. + 60.) * mvolt\n",
    "Ei = (-80. + 60.) * mvolt\n",
    "\n",
    "eqs = Equations('''\n",
    "dv/dt = (-v+ge*(Ee-v)+gi*(Ei-v))*(1./taum) : volt\n",
    "dge/dt = -ge*(1./taue) : 1\n",
    "dgi/dt = -gi*(1./taui) : 1 \n",
    "''')\n",
    "\n",
    "P = NeuronGroup(2000, model=eqs, threshold=10 * mvolt, \\\n",
    "              reset=0 * mvolt, refractory=5 * msecond,\n",
    "              order=1, compile=True)\n",
    "Pe = P.subgroup(1600)\n",
    "Pi = P.subgroup(400)\n",
    "we = 6. / 10. # excitatory synaptic weight (voltage)\n",
    "wi = 67. / 10. # inhibitory synaptic weight\n",
    "Ce = Connection(Pe, P, 'ge', weight=we, sparseness=0.02)\n",
    "Ci = Connection(Pi, P, 'gi', weight=wi, sparseness=0.02)\n",
    "# Initialization\n",
    "P.v = (randn(len(P)) * 5 - 5) * mvolt\n",
    "P.ge = randn(len(P)) * 1.5 + 4\n",
    "P.gi = randn(len(P)) * 12 + 20\n",
    "\n",
    "# Record the number of spikes\n",
    "Me = PopulationSpikeCounter(Pe)\n",
    "Mi = PopulationSpikeCounter(Pi)\n",
    "\n",
    "# Record all excitatory spikes\n",
    "spikes_e = SpikeMonitor(Pe)\n",
    "# Record the membrane potential of a single neuron\n",
    "mon_e = StateMonitor(Pe, 'v', record=0)\n",
    "run(1 * second)\n",
    "\n",
    "print Me.nspikes, \"excitatory spikes\"\n",
    "print Mi.nspikes, \"inhibitory spikes\"\n",
    "\n",
    "subplot(1, 2, 1)\n",
    "raster_plot(spikes_e)\n",
    "subplot(1, 2, 2)\n",
    "plot(mon_e.times/ms, mon_e[0]/mV)\n",
    "show()\n"
   ]
  },
  {
   "cell_type": "code",
   "execution_count": null,
   "metadata": {
    "collapsed": false
   },
   "outputs": [],
   "source": []
  }
 ],
 "metadata": {
  "kernelspec": {
   "display_name": "Python 2",
   "language": "python",
   "name": "python2"
  },
  "language_info": {
   "codemirror_mode": {
    "name": "ipython",
    "version": 2
   },
   "file_extension": ".py",
   "mimetype": "text/x-python",
   "name": "python",
   "nbconvert_exporter": "python",
   "pygments_lexer": "ipython2",
   "version": "2.7.10"
  }
 },
 "nbformat": 4,
 "nbformat_minor": 0
}
